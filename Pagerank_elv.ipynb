{
 "cells": [
  {
   "cell_type": "markdown",
   "metadata": {},
   "source": [
    "<div id=\"titre\">\n",
    "<h1 style=\"color:white;\n",
    "  font-family:Comic Sans MS;\n",
    "  font-size:4em;\n",
    "  background-color:#F0573B;\n",
    "  text-align:center;\n",
    "  padding:10px\">Le PageRank de Google </h1>\n",
    "<div style=\"font-family:Comic Sans MS; background-color:black;box-shadow: 8px 8px 0px #aaa; text-align:center; width: 50%; color:white\">TP  - SNT</div>\n",
    "</div>"
   ]
  },
  {
   "cell_type": "markdown",
   "metadata": {},
   "source": [
    "<ul>\n",
    "    <li>Le <b>PageRank</b> est l’algorithme d’analyse des liens hypertextes utilisé pour le classement des pages Web par le moteur de recherche Google. Le PageRank n’est qu’un indicateur parmi d’autres dans l’algorithme qui permet de classer les pages du Web dans les résultats de recherche. Ce système a été inventé par Larry Page, cofondateur de Google. Ce mot est une marque déposée.</li>\n",
    "\n",
    "<li>Le principe de base est d’attribuer à chaque page une valeur proportionnelle au nombre de fois que passerait par cette page un utilisateur parcourant le Web en cliquant aléatoirement, sur un des liens apparaissant sur chaque page.</li>\n",
    "\n",
    "<li>A chaque instant, des “robots”, appelés “spiders”, parcourent la toile, de lien en lien, et mettent ainsi sans cesse à jour le PageRank des pages du web.</li>\n",
    "</ul>\n",
    "\n",
    "<b><u>Objectif</u></b>\n",
    "<blockquote style=\"border-left: 10px solid black;background-color:#F0573B\"> \n",
    "    Proposer un PageRank permettant de mesurer la popularité des pages d'un mini Web. \n",
    "</blockquote>"
   ]
  },
  {
   "cell_type": "markdown",
   "metadata": {},
   "source": [
    "<h1 style=\"color:white;background-color:black;text-align:center\"> Partie A : parcours d'un mini Web</h1>"
   ]
  },
  {
   "cell_type": "markdown",
   "metadata": {},
   "source": [
    "On schématise une page web par un cercle et les liens entre les pages par des flèches. <br>Trois pages A, B et C sont donc représentées de la façon suivante.<img src=graphe1.png width='200'>\n",
    "<br>\n",
    "L’objectif est de déterminer la fréquence avec laquelle on visite chaque page lorsqu’on parcourt le graphe de façon aléatoire.\n",
    "<br>\n",
    "Au départ le nombre de visite de chaque page est nul.\n",
    "<br>\n",
    "On choisit une page de départ au hasard et on incrémente de 1 son nombre de visite (il passe donc à 1).\n",
    "\n",
    "A l’aide d’une pièce de monaie équilibrée, nous allons nous promener sur ce graphe en respectant les règles ci-dessous:\n",
    "<ul>\n",
    "    <li>Si d’une page ne part qu’un seul lien alors on le suit.</li>\n",
    "    <li>Si d’une page partent deux liens, on décide que l’un d’eux correspondra à face, l’autre à pile et on lance la pièce. Selon le résultat, on emprunte le lien correspondant.</li>\n",
    "</ul>\n",
    "A chaque nouvelle page atteinte, on augmente son nombre de visite(s) et on se déplace à nouveau."
   ]
  },
  {
   "cell_type": "markdown",
   "metadata": {},
   "source": [
    "<span style='color:white;font-weight:bold;background-color:black;width:12px;padding: 2px;font-size:20px'>1.</span> Réaliser cette expérience 30 fois.\n",
    "<br>Remplir le tableau ci-dessous pour donner la fréquence de visite de chaque page de ce mini Web suite au parcours de 30 pages :\n",
    "        <table style=\"border-width:2px;border-style:solid;border-color:black;border-collapse:collapse;\" width=\"500\">\n",
    "   <tr style=\"border:2px solid black;\">\n",
    "       <td style=\"border:2px solid black;text-align:center\"><b>Page</b></td>\n",
    "       <td style=\"border:2px solid black;text-align:center\"><code>'A'</code></td>\n",
    "       <td style=\"border:2px solid black;text-align:center\"><code>'B'</code></td>\n",
    "       <td style=\"border:2px solid black;text-align:center\"><code>'C'</code></td>\n",
    "   </tr>\n",
    "    <tr style=\"border:2px solid black;\">\n",
    "       <td style=\"border:2px solid black;text-align:center\"><b>Effectif</b></td>\n",
    "       <td style=\"border:2px solid black;text-align:center\"> </td>\n",
    "       <td style=\"border:2px solid black;text-align:center\"> </td>\n",
    "       <td style=\"border:2px solid black;text-align:center\"> </td>\n",
    "   </tr>\n",
    "    <tr>\n",
    "        <td style=\"border:2px solid black;text-align:center\"><b>Fréquence</b></td>\n",
    "       <td style=\"border:2px solid black;text-align:center\"> </td>\n",
    "       <td style=\"border:2px solid black;text-align:center\"> </td>\n",
    "       <td style=\"border:2px solid black;text-align:center\"> </td>\n",
    "   </tr>\n",
    "</table>"
   ]
  },
  {
   "cell_type": "markdown",
   "metadata": {},
   "source": [
    "<span style='color:white;font-weight:bold;background-color:black;width:12px;padding: 2px;font-size:20px'>2.</span> Modélisons ce Mini Web avec Python :"
   ]
  },
  {
   "cell_type": "markdown",
   "metadata": {},
   "source": [
    "<span style='color:white;font-weight:bold;background-color:#F0573B;padding: 2px;font-size:20px'>a.</span> Le mini Web précédent peut-être modélisé par un <b>graphe</b> nommé <code>G</code>. <br>Avec Python, il suffit d'exécuter le code suivant :"
   ]
  },
  {
   "cell_type": "code",
   "execution_count": null,
   "metadata": {},
   "outputs": [],
   "source": [
    "G = {\n",
    "    'A' : ['B','C'],\n",
    "    'B' : ['A'],\n",
    "    'C' : ['A','B']    \n",
    "}"
   ]
  },
  {
   "cell_type": "markdown",
   "metadata": {},
   "source": [
    "<span style='color:white;font-weight:bold;background-color:#F0573B;padding: 2px;font-size:20px'>b.</span> Exécuter le code suivant :"
   ]
  },
  {
   "cell_type": "code",
   "execution_count": null,
   "metadata": {},
   "outputs": [],
   "source": [
    "G['A']"
   ]
  },
  {
   "cell_type": "markdown",
   "metadata": {},
   "source": [
    "<b><u>Remarque</u></b>\n",
    "<blockquote style=\"border-left: 4px solid black\"> \n",
    "    Comme on peut le voir, on peut passer du sommet <code>'A'</code> à la liste les sommets <code>'B'</code> et <code>'C'</code>.\n",
    "</blockquote>"
   ]
  },
  {
   "cell_type": "markdown",
   "metadata": {},
   "source": [
    "<span style='color:white;font-weight:bold;background-color:#F0573B;padding: 2px;font-size:20px'>c.</span> Quelle est la liste des sommets associée au sommet <code>'B'</code> ?\n",
    "<br> Vérifier votre réponse en complétant et exécutant la cellule suivante :"
   ]
  },
  {
   "cell_type": "code",
   "execution_count": null,
   "metadata": {},
   "outputs": [],
   "source": [
    "G['B']"
   ]
  },
  {
   "cell_type": "markdown",
   "metadata": {},
   "source": [
    "<span style='color:white;font-weight:bold;background-color:black;width:12px;padding: 2px;font-size:20px'>3.</span> Parcours aléatoire de <code>G</code> :"
   ]
  },
  {
   "cell_type": "markdown",
   "metadata": {},
   "source": [
    "<span style='color:white;font-weight:bold;background-color:#F0573B;padding: 2px;font-size:20px'>a.</span> <code>G</code> a pour <b>sommets</b> : \n",
    "<ul>\n",
    "    <li><code>'A'</code></li> \n",
    "    <li><code>'B'</code></li> \n",
    "    <li><code>'C'</code></li>\n",
    "</ul>\n",
    "Exécuter le code ci-dessous pour obtenir la liste des sommets de <code>G</code> :"
   ]
  },
  {
   "cell_type": "code",
   "execution_count": null,
   "metadata": {},
   "outputs": [],
   "source": [
    "Liste_sommets = ['A','B','C']\n",
    "Liste_sommets"
   ]
  },
  {
   "cell_type": "markdown",
   "metadata": {},
   "source": [
    "<span style='color:white;font-weight:bold;background-color:#F0573B;padding: 2px;font-size:20px'>b.</span> Exécuter l'instruction suivante. <br>Elle permet de charger la fonction <code>choice</code> à partir du module <b>random</b> : "
   ]
  },
  {
   "cell_type": "code",
   "execution_count": null,
   "metadata": {},
   "outputs": [],
   "source": [
    "from random import choice"
   ]
  },
  {
   "cell_type": "markdown",
   "metadata": {},
   "source": [
    "<b><u>Avec Python</u></b>\n",
    "<blockquote style=\"border-left: 4px solid black;background-color:lightblue\"> \n",
    "    <code>choice(['A','B','C'])</code> renvoie au hasard une des 3 lettres au hasard de la liste. \n",
    "</blockquote>"
   ]
  },
  {
   "cell_type": "markdown",
   "metadata": {},
   "source": [
    "<span style='color:white;font-weight:bold;background-color:#F0573B;padding: 2px;font-size:20px'>c.</span> Exécuter le code suivant : "
   ]
  },
  {
   "cell_type": "code",
   "execution_count": null,
   "metadata": {},
   "outputs": [],
   "source": [
    "S = 'A'\n",
    "for k in range(9):\n",
    "    Sommets_possibles = G[S]\n",
    "    S = choice(Sommets_possibles)\n",
    "    print(S)"
   ]
  },
  {
   "cell_type": "markdown",
   "metadata": {},
   "source": [
    "<u><b>Questions :</b></u>\n",
    "<blockquote style=\"border-left: 4px solid black\"> \n",
    "<ul>\n",
    "    <li>Quel est le sommet de départ ?</li>\n",
    "    <li>Partant du point de départ, on a parcouru 10 pages de ce mini Web.\n",
    "        <br> Quelle modification permet de simuler le parcours de 30 pages ?</li>\n",
    "</ul>\n",
    "</blockquote> "
   ]
  },
  {
   "cell_type": "markdown",
   "metadata": {},
   "source": [
    "<span style='color:white;font-weight:bold;background-color:black;width:12px;padding: 2px;font-size:20px'>4.</span> Obtention d'un PageRank pour <code>G</code> :\n",
    "<blockquote style=\"border-left: 4px solid black\"> \n",
    "La fonction ci-dessous nommée <code>pagerank</code> a pour paramètres :\n",
    "<ul>\n",
    "    <li><code>G</code> <i>(un graphe formé de 3 trois sommets)</i></li>\n",
    "    <li><code>n</code> <i>(le nombre de pages à parcourir aléatoirement)</i></li>\n",
    "</ul>\n",
    "</blockquote> "
   ]
  },
  {
   "cell_type": "code",
   "execution_count": null,
   "metadata": {},
   "outputs": [],
   "source": [
    "def pagerank(G,n):\n",
    "    S = choice(['A','B','C'])\n",
    "    nA, nB, nC = 0, 0, 0 \n",
    "    for k in range(1,n+1):\n",
    "        Sommets_possibles = G[S]\n",
    "        S = choice(Sommets_possibles)\n",
    "        if S == 'A':\n",
    "            nA = nA + 1\n",
    "        elif S == 'B':\n",
    "            nB = nB + 1\n",
    "        elif S == 'C':\n",
    "            nC = nC + 1\n",
    "    return [nA/n, nB/n, nC/n]"
   ]
  },
  {
   "cell_type": "markdown",
   "metadata": {},
   "source": [
    "<span style='color:white;font-weight:bold;background-color:#F0573B;padding: 2px;font-size:20px'>a.</span> A quelle condition la variable <code>nA</code> est-elle augmentée de 1 ?"
   ]
  },
  {
   "cell_type": "markdown",
   "metadata": {},
   "source": [
    "<span style='color:white;font-weight:bold;background-color:#F0573B;padding: 2px;font-size:20px'>b.</span> Exécuter l'instruction suivante et donner un PageRank pour <code>G</code> :"
   ]
  },
  {
   "cell_type": "code",
   "execution_count": null,
   "metadata": {},
   "outputs": [],
   "source": [
    "pagerank(G,10000)"
   ]
  },
  {
   "cell_type": "markdown",
   "metadata": {},
   "source": [
    "<h1 style=\"color:white;background-color:black;text-align:center\"> Partie B : Amélioration du parcours d'un mini Web</h1>"
   ]
  },
  {
   "cell_type": "markdown",
   "metadata": {},
   "source": [
    "Un mini Web est constitué cette fois-ci de 4 pages A, B, C et D dont voici sa représention : <img src=graphe2.png width='200'>"
   ]
  },
  {
   "cell_type": "markdown",
   "metadata": {},
   "source": [
    "<span style='color:white;font-weight:bold;background-color:black;width:12px;padding: 2px;font-size:20px'>1.</span> Quelle page est isolée ?"
   ]
  },
  {
   "cell_type": "markdown",
   "metadata": {},
   "source": [
    "<span style='color:white;font-weight:bold;background-color:black;width:12px;padding: 2px;font-size:20px'>2.</span> Compléter le code suivant pour définir le graphe <code>G1</code> associé à ce mini Web :"
   ]
  },
  {
   "cell_type": "code",
   "execution_count": null,
   "metadata": {},
   "outputs": [],
   "source": [
    "G1 = {\n",
    "    'A' : ['B','C'],\n",
    "    'B' : ['A'],\n",
    "    'C' : ['A','B'],\n",
    "    'D' : ['B']\n",
    "}"
   ]
  },
  {
   "cell_type": "markdown",
   "metadata": {},
   "source": [
    "<u><b>Modélisation du PageRank :</b></u>\n",
    "<blockquote style=\"border-left: 4px solid black;background-color:lightblue\"> \n",
    "    Pour pallier les problèmes de pages isolées, <b>on décide que</b>, à chaque page visitée quelle qu’elle soit, on choisit $1$ fois sur $20$ la page suivante au hasard parmi toutes les pages.  \n",
    "</blockquote>"
   ]
  },
  {
   "cell_type": "markdown",
   "metadata": {},
   "source": [
    "<span style='color:white;font-weight:bold;background-color:black;width:12px;padding: 2px;font-size:20px'>3.</span> Nouveau PageRank "
   ]
  },
  {
   "cell_type": "markdown",
   "metadata": {},
   "source": [
    "<span style='color:white;font-weight:bold;background-color:#F0573B;padding: 2px;font-size:20px'>a.</span> Compléter la fonction ci-dessous nommée <code>pagerankbis</code> de paramètres :\n",
    "<blockquote style=\"border-left: 4px solid black\"> \n",
    "<ul>\n",
    "    <li><code>G</code> <i>(un graphe formé de 4 trois sommets)</i></li>\n",
    "    <li><code>n</code> <i>(le nombre de pages à parcourir aléatoirement)</i></li>\n",
    "</ul>\n",
    "</blockquote>"
   ]
  },
  {
   "cell_type": "code",
   "execution_count": null,
   "metadata": {},
   "outputs": [],
   "source": [
    "def pagerankbis(G,n):\n",
    "    nA, nB, nC, nD = 0, 0, 0, 0 \n",
    "    for k in range(n):\n",
    "        if k%20 == 0:\n",
    "            S = choice(['A','B','C','D'])\n",
    "        if S == 'A':\n",
    "            nA = nA + 1\n",
    "        elif S == 'B':\n",
    "            nB = nB + 1\n",
    "        elif S == 'C':\n",
    "            nC = nC + 1\n",
    "        elif S == 'D':\n",
    "            nD = nD + 1\n",
    "        Sommets_possibles = G[S]\n",
    "        S = choice(Sommets_possibles)\n",
    "    return [nA/n, nB/n, nC/n, nD/n]"
   ]
  },
  {
   "cell_type": "markdown",
   "metadata": {},
   "source": [
    "<span style='color:white;font-weight:bold;background-color:#F0573B;padding: 2px;font-size:20px'>b.</span> Donner un PageRank pour ce mini Web."
   ]
  },
  {
   "cell_type": "code",
   "execution_count": null,
   "metadata": {},
   "outputs": [],
   "source": [
    "pagerankbis(G1,100000)"
   ]
  },
  {
   "cell_type": "markdown",
   "metadata": {},
   "source": [
    "<h1 style=\"color:white;background-color:black;text-align:center\"> Partie C : Un autre mini Web</h1>"
   ]
  },
  {
   "cell_type": "markdown",
   "metadata": {},
   "source": [
    "Donner le PageRank pour le mini Web représenté ci-dessous : <img src=graphe3.png width='200'>"
   ]
  },
  {
   "cell_type": "code",
   "execution_count": null,
   "metadata": {},
   "outputs": [],
   "source": []
  }
 ],
 "metadata": {
  "celltoolbar": "Format de la Cellule Texte Brut",
  "kernelspec": {
   "display_name": "Python 3",
   "language": "python",
   "name": "python3"
  },
  "language_info": {
   "codemirror_mode": {
    "name": "ipython",
    "version": 3
   },
   "file_extension": ".py",
   "mimetype": "text/x-python",
   "name": "python",
   "nbconvert_exporter": "python",
   "pygments_lexer": "ipython3",
   "version": "3.7.1"
  }
 },
 "nbformat": 4,
 "nbformat_minor": 2
}
