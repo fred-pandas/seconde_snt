{
 "cells": [
  {
   "cell_type": "code",
   "execution_count": null,
   "metadata": {},
   "outputs": [],
   "source": [
    "import pandas as pa"
   ]
  },
  {
   "cell_type": "code",
   "execution_count": null,
   "metadata": {},
   "outputs": [],
   "source": [
    "M = []\n",
    "for i in range(1,13):\n",
    "    M.append(pa.read_csv('villes_{}.csv'.format(i)))\n",
    "T = pa.concat(M,axis=0,ignore_index=True)\n",
    "T.head() "
   ]
  },
  {
   "cell_type": "code",
   "execution_count": null,
   "metadata": {},
   "outputs": [],
   "source": [
    "len(T)"
   ]
  },
  {
   "cell_type": "code",
   "execution_count": null,
   "metadata": {},
   "outputs": [],
   "source": [
    "codes = pa.read_csv('country_codes.csv')\n",
    "codes.head()"
   ]
  },
  {
   "cell_type": "code",
   "execution_count": null,
   "metadata": {},
   "outputs": [],
   "source": [
    "F = T.merge(codes, on='code', how='inner')\n",
    "F.head()"
   ]
  },
  {
   "cell_type": "code",
   "execution_count": null,
   "metadata": {},
   "outputs": [],
   "source": [
    "F['City'].value_counts()"
   ]
  },
  {
   "cell_type": "code",
   "execution_count": null,
   "metadata": {},
   "outputs": [],
   "source": [
    "S = F.query('City == \"san jose\"')\n",
    "S.head()"
   ]
  },
  {
   "cell_type": "code",
   "execution_count": null,
   "metadata": {},
   "outputs": [],
   "source": [
    "S['name'].value_counts()"
   ]
  },
  {
   "cell_type": "code",
   "execution_count": null,
   "metadata": {},
   "outputs": [],
   "source": [
    "Phil = F.query('name == \"Philippines\"')\n",
    "Phil['City'].value_counts()"
   ]
  },
  {
   "cell_type": "code",
   "execution_count": null,
   "metadata": {},
   "outputs": [],
   "source": [
    "import folium\n",
    "\n",
    "carte = folium.Map(location=[0,0],tiles='Stamen Toner', zoom_start=2)\n",
    "carte"
   ]
  },
  {
   "cell_type": "code",
   "execution_count": null,
   "metadata": {},
   "outputs": [],
   "source": [
    "for i,ligne in S.iterrows():\n",
    "    folium.CircleMarker(location=(ligne['Latitude'],ligne['Longitude']),\n",
    "                        popup=ligne['name'],\n",
    "                        color='red',\n",
    "                        fill_color='yellow',\n",
    "                        radius=10).add_to(carte)\n",
    "carte"
   ]
  },
  {
   "cell_type": "code",
   "execution_count": null,
   "metadata": {},
   "outputs": [],
   "source": [
    "P = F.query('City == \"paris\"')\n",
    "len(P)"
   ]
  },
  {
   "cell_type": "code",
   "execution_count": null,
   "metadata": {},
   "outputs": [],
   "source": [
    "carte1 = folium.Map(location=[0,0],tiles='Stamen Toner', zoom_start=2)\n",
    "\n",
    "for i,ligne in P.iterrows():\n",
    "    folium.CircleMarker(location=(ligne['Latitude'],ligne['Longitude']),\n",
    "                        popup=ligne['name'],\n",
    "                        color='red',\n",
    "                        fill_color='yellow',\n",
    "                        radius=10).add_to(carte1)\n",
    "carte1"
   ]
  },
  {
   "cell_type": "code",
   "execution_count": null,
   "metadata": {},
   "outputs": [],
   "source": [
    "R = F.sort_values(by='Population',ascending=False).head(1000)\n",
    "R.head()"
   ]
  },
  {
   "cell_type": "code",
   "execution_count": null,
   "metadata": {},
   "outputs": [],
   "source": [
    "R['Classement'] = pa.Series(range(1,1001),index=R.index)\n",
    "R.head()"
   ]
  },
  {
   "cell_type": "code",
   "execution_count": null,
   "metadata": {},
   "outputs": [],
   "source": [
    "R.query('name == \"France\"')"
   ]
  },
  {
   "cell_type": "code",
   "execution_count": null,
   "metadata": {},
   "outputs": [],
   "source": [
    "carte2 = folium.Map(location=[0,0],tiles='Stamen Toner', zoom_start=2)\n",
    "\n",
    "for i,ligne in R.iterrows():\n",
    "    folium.CircleMarker(location=(ligne['Latitude'],ligne['Longitude']),\n",
    "                        popup=ligne['City']+'\\n'+str(ligne['Population']),\n",
    "                        color='red',\n",
    "                        fill_color='yellow',\n",
    "                        radius=5).add_to(carte2)\n",
    "\n",
    "carte2"
   ]
  },
  {
   "cell_type": "code",
   "execution_count": null,
   "metadata": {},
   "outputs": [],
   "source": [
    "from math import sqrt,pi"
   ]
  },
  {
   "cell_type": "code",
   "execution_count": null,
   "metadata": {},
   "outputs": [],
   "source": [
    "carte3 = folium.Map(location=[0,0],tiles='Stamen Toner', zoom_start=2)\n",
    "\n",
    "for i,ligne in R.iterrows():\n",
    "    folium.CircleMarker(location=(ligne['Latitude'],ligne['Longitude']),\n",
    "                        popup=ligne['City']+'\\n'+str(ligne['Population']),\n",
    "                        color='red',\n",
    "                        fill_color='yellow',\n",
    "                        radius=sqrt(50*ligne['Population']/(pi*2110694))\n",
    "                       ).add_to(carte3)\n",
    "\n",
    "\n",
    "carte3"
   ]
  },
  {
   "cell_type": "code",
   "execution_count": null,
   "metadata": {},
   "outputs": [],
   "source": []
  }
 ],
 "metadata": {
  "kernelspec": {
   "display_name": "Python 3",
   "language": "python",
   "name": "python3"
  },
  "language_info": {
   "codemirror_mode": {
    "name": "ipython",
    "version": 3
   },
   "file_extension": ".py",
   "mimetype": "text/x-python",
   "name": "python",
   "nbconvert_exporter": "python",
   "pygments_lexer": "ipython3",
   "version": "3.7.1"
  }
 },
 "nbformat": 4,
 "nbformat_minor": 2
}
