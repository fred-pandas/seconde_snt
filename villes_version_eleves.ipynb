{
 "cells": [
  {
   "cell_type": "markdown",
   "metadata": {},
   "source": [
    "<div id=\"titre\">\n",
    "<h1 style=\"color:white;\n",
    "  font-family:Comic Sans MS;\n",
    "  font-size:5em;\n",
    "  background-color:#F0573B;\n",
    "  text-align:center;\n",
    "  padding:10px\">Activité 1</h1>\n",
    "<div style=\"font-family:Comic Sans MS; background-color:black;box-shadow: 8px 8px 0px #aaa; text-align:center; width: 50%; color:white\">Villes du monde - SNT</div>\n",
    "</div>"
   ]
  },
  {
   "cell_type": "markdown",
   "metadata": {},
   "source": [
    "<blockquote style=\"color:white;\n",
    "background-color:#F0573B;\n",
    "  font-size:200%;\n",
    "  font-family:Arial;\n",
    "  border-left: 30px solid orange;  \n",
    "  margin-left: -10px;\n",
    "  padding:10px\">Ouverture et lecture avec python\n",
    "</blockquote>"
   ]
  },
  {
   "cell_type": "markdown",
   "metadata": {},
   "source": [
    "<h4> 1. Exécuter le code suivant </h4>"
   ]
  },
  {
   "cell_type": "code",
   "execution_count": null,
   "metadata": {},
   "outputs": [],
   "source": [
    "import pandas as pa"
   ]
  },
  {
   "cell_type": "markdown",
   "metadata": {},
   "source": [
    "<h4> 2. Pour obtenir la table T des villes du monde, on fusionne les fichiers ville_i.csv en exécutant le code suivant </h4>"
   ]
  },
  {
   "cell_type": "code",
   "execution_count": null,
   "metadata": {},
   "outputs": [],
   "source": [
    "M = []\n",
    "for i in range(1,13):\n",
    "    M.append(pa.read_csv('villes_{}.csv'.format(i)))\n",
    "T = pa.concat(M,ignore_index=True,axis=0)\n",
    "T.head() "
   ]
  },
  {
   "cell_type": "markdown",
   "metadata": {},
   "source": [
    "<h4> 3. Exécuter le code suivant </h4>"
   ]
  },
  {
   "cell_type": "code",
   "execution_count": null,
   "metadata": {},
   "outputs": [],
   "source": [
    "len(T)"
   ]
  },
  {
   "cell_type": "markdown",
   "metadata": {},
   "source": [
    "<h4> 4. Exécuter le code suivant </h4>"
   ]
  },
  {
   "cell_type": "code",
   "execution_count": null,
   "metadata": {},
   "outputs": [],
   "source": [
    "codes = pa.read_csv('country_codes.csv')\n",
    "codes.head()"
   ]
  },
  {
   "cell_type": "markdown",
   "metadata": {},
   "source": [
    "<blockquote style=\"color:white;\n",
    "background-color:#F0573B;\n",
    "  font-size:200%;\n",
    "  font-family:Arial;\n",
    "  border-left: 30px solid orange;  \n",
    "  margin-left: -10px;\n",
    "  padding:10px\">Fusion des tables \n",
    "</blockquote>"
   ]
  },
  {
   "cell_type": "markdown",
   "metadata": {},
   "source": [
    "<h4> 2. Pour fusionner les tables T et codes, exécuter le code suivant </h4>"
   ]
  },
  {
   "cell_type": "code",
   "execution_count": null,
   "metadata": {},
   "outputs": [],
   "source": [
    "F = T.merge(codes, on='code', how='inner')\n",
    "F.head()"
   ]
  },
  {
   "cell_type": "markdown",
   "metadata": {},
   "source": [
    "<blockquote style=\"color:white;\n",
    "background-color:#F0573B;\n",
    "  font-size:200%;\n",
    "  font-family:Arial;\n",
    "  border-left: 30px solid orange;  \n",
    "  margin-left: -10px;\n",
    "  padding:10px\">Sélection de données et colonies\n",
    "</blockquote>"
   ]
  },
  {
   "cell_type": "markdown",
   "metadata": {},
   "source": [
    "<blockquote style=\"color:white;\n",
    "background-color:#F0573B;\n",
    "  font-size:200%;\n",
    "  font-family:Arial;\n",
    "  border-left: 30px solid orange;  \n",
    "  margin-left: -10px;\n",
    "  padding:10px\">Paris à travers le monde\n",
    "</blockquote>"
   ]
  },
  {
   "cell_type": "markdown",
   "metadata": {},
   "source": [
    "<blockquote style=\"color:white;\n",
    "background-color:#F0573B;\n",
    "  font-size:200%;\n",
    "  font-family:Arial;\n",
    "  border-left: 30px solid orange;  \n",
    "  margin-left: -10px;\n",
    "  padding:10px\">Les 1000 villes les plus peuplées au monde\n",
    "</blockquote>"
   ]
  },
  {
   "cell_type": "markdown",
   "metadata": {},
   "source": []
  }
 ],
 "metadata": {
  "kernelspec": {
   "display_name": "Python 3",
   "language": "python",
   "name": "python3"
  },
  "language_info": {
   "codemirror_mode": {
    "name": "ipython",
    "version": 3
   },
   "file_extension": ".py",
   "mimetype": "text/x-python",
   "name": "python",
   "nbconvert_exporter": "python",
   "pygments_lexer": "ipython3",
   "version": "3.7.1"
  }
 },
 "nbformat": 4,
 "nbformat_minor": 2
}
